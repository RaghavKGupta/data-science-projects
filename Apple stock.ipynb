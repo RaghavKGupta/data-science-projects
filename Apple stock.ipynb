{
 "cells": [
  {
   "cell_type": "code",
   "execution_count": null,
   "metadata": {
    "collapsed": true
   },
   "outputs": [],
   "source": [
    "import csv\n",
    "import numpy as np\n",
    "from sklearn.svm import SVR\n",
    "import matplotlib.pyplot as plt\n",
    "\n",
    "\n",
    "plt.switch_backend('')\n",
    "\n",
    "dates = []\n",
    "prices = []\n",
    "\n",
    "def get_data(filename):\n",
    "\twith open(filename, 'r') as csvfile:\n",
    "\t\tcsvFileReader = csv.reader(csvfile)\n",
    "\t\tnext(csvFileReader)\t# skipping column names\n",
    "\t\tfor row in csvFileReader:\n",
    "\t\t\tdates.append(int(row[0].split('-')[0]))\n",
    "\t\t\tprices.append(float(row[1]))\n",
    "\treturn\n",
    "\n",
    "def predict_price(dates, prices, x):\n",
    "\tdates = np.reshape(dates,(len(dates), 1)) # converting to matrix of n X 1\n",
    "\n",
    "\tsvr_lin = SVR(kernel= 'linear', C= 1e3)\n",
    "\tsvr_poly = SVR(kernel= 'poly', C= 1e3, degree= 2)\n",
    "\tsvr_rbf = SVR(kernel= 'rbf', C= 1e3, gamma= 0.1) # defining the support vector regression models\n",
    "\tsvr_rbf.fit(dates, prices) # fitting the data points in the models\n",
    "\tsvr_lin.fit(dates, prices)\n",
    "\tsvr_poly.fit(dates, prices)\n",
    "\n",
    "\tplt.scatter(dates, prices, color= 'black', label= 'Data') # plotting the initial datapoints\n",
    "\tplt.plot(dates, svr_rbf.predict(dates), color= 'red', label= 'RBF model') # plotting the line made by the RBF kernel\n",
    "\tplt.plot(dates,svr_lin.predict(dates), color= 'green', label= 'Linear model') # plotting the line made by linear kernel\n",
    "\tplt.plot(dates,svr_poly.predict(dates), color= 'blue', label= 'Polynomial model') # plotting the line made by polynomial kernel\n",
    "\tplt.xlabel('Date')\n",
    "\tplt.ylabel('Price')\n",
    "\tplt.title('Support Vector Regression')\n",
    "\tplt.legend()\n",
    "\tplt.show()\n",
    "\n",
    "\treturn svr_rbf.predict(x)[0], svr_lin.predict(x)[0], svr_poly.predict(x)[0]\n",
    "\n",
    "get_data('/Users/raghavgupta/PycharmProjects/untitled/aapl.csv')\n",
    "\n",
    "predicted_price = predict_price(dates, prices, 29)"
   ]
  },
  {
   "cell_type": "code",
   "execution_count": null,
   "metadata": {
    "collapsed": true
   },
   "outputs": [],
   "source": []
  }
 ],
 "metadata": {
  "kernelspec": {
   "display_name": "Python 2",
   "language": "python",
   "name": "python2"
  },
  "language_info": {
   "codemirror_mode": {
    "name": "ipython",
    "version": 2
   },
   "file_extension": ".py",
   "mimetype": "text/x-python",
   "name": "python",
   "nbconvert_exporter": "python",
   "pygments_lexer": "ipython2",
   "version": "2.7.13"
  }
 },
 "nbformat": 4,
 "nbformat_minor": 2
}
