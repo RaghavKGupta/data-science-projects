{
  "nbformat": 4,
  "nbformat_minor": 0,
  "metadata": {
    "colab": {
      "name": "codelab_1.ipynb",
      "version": "0.3.2",
      "provenance": [],
      "collapsed_sections": [
        "LD7ppbywTmDI"
      ],
      "toc_visible": true,
      "include_colab_link": true
    },
    "kernelspec": {
      "display_name": "Python 3",
      "language": "python",
      "name": "python3"
    },
    "accelerator": "GPU"
  },
  "cells": [
    {
      "cell_type": "markdown",
      "metadata": {
        "id": "view-in-github",
        "colab_type": "text"
      },
      "source": [
        "[View in Colaboratory](https://colab.research.google.com/github/RaghavKGupta/data-science-projects/blob/master/codelab_1.ipynb)"
      ]
    },
    {
      "metadata": {
        "id": "VOstXwp9RuId",
        "colab_type": "text"
      },
      "cell_type": "markdown",
      "source": [
        "## Dataset Features"
      ]
    },
    {
      "metadata": {
        "id": "PbqKsrC7R9Ce",
        "colab_type": "text"
      },
      "cell_type": "markdown",
      "source": [
        "Selected Attributes (also found [here](/https://www.kaggle.com/uciml/breast-cancer-wisconsin-data)):\n",
        "\n",
        "1. **id** - ignore this for feature selection\n",
        "2. **diagnosis** - M = malignant, B = benign\n",
        "3. **radius** - distances from center to points on the perimeter\n",
        "4. **texture** -  gray-scale values\n",
        "5. **perimeter** - size of the core tumor\n",
        "6. **area** - size of the core tumor\n",
        "7. **smoothness** - local variation in radius lengths\n",
        "8. **compactness** - perimeter^2 / area - 1.0\n",
        "9. **concavity** -  of concave portions of the contour\n",
        "11. **fractal_dimension** -  \"coastline approximation\"\n",
        "12. **radius** - distances from center to points on the perimeter\n",
        "13. **texture** - gray-scale values\n",
        "\n",
        "Statistical Categories\n",
        "\n",
        "1. **Mean**\n",
        "2. **Worst**\n",
        "3. **SE** - Standard Error (spread of measurements)"
      ]
    },
    {
      "metadata": {
        "id": "6sS_8QyyHr1E",
        "colab_type": "text"
      },
      "cell_type": "markdown",
      "source": [
        "## Setup"
      ]
    },
    {
      "metadata": {
        "id": "0q2uBXS1gi8N",
        "colab_type": "code",
        "colab": {
          "base_uri": "https://localhost:8080/",
          "height": 71
        },
        "outputId": "e0d4afea-8148-45c2-c81e-116729456812"
      },
      "cell_type": "code",
      "source": [
        "# here we will import the libraries used for machine learning\n",
        "import numpy as np # linear algebra\n",
        "import pandas as pd # data processing, CSV file I/O (e.g. pd.read_csv), data manipulation as in SQL\n",
        "import matplotlib.pyplot as plt # this is used for the plot the graph \n",
        "import seaborn as sns # used for plot interactive graph. I like it most for plot\n",
        "%matplotlib inline\n",
        "from sklearn.linear_model import LogisticRegression # to apply the Logistic regression\n",
        "from sklearn.model_selection import train_test_split # to split the data into two parts\n",
        "from sklearn.cross_validation import KFold # use for cross validation\n",
        "from sklearn.model_selection import GridSearchCV# for tuning parameter\n",
        "from sklearn.ensemble import RandomForestClassifier # for random forest classifier\n",
        "from sklearn.naive_bayes import GaussianNB\n",
        "from sklearn.neighbors import KNeighborsClassifier\n",
        "from sklearn.tree import DecisionTreeClassifier\n",
        "from sklearn import svm # for Support Vector Machine\n",
        "from sklearn import metrics # for the check the error and accuracy of the model\n",
        "# Any results you write to the current directory are saved as output.\n",
        "# dont worry about the error if its not working then insteda of model_selection we can use cross_validation"
      ],
      "execution_count": 1,
      "outputs": [
        {
          "output_type": "stream",
          "text": [
            "/usr/local/lib/python3.6/dist-packages/sklearn/cross_validation.py:41: DeprecationWarning: This module was deprecated in version 0.18 in favor of the model_selection module into which all the refactored classes and functions are moved. Also note that the interface of the new CV iterators are different from that of this module. This module will be removed in 0.20.\n",
            "  \"This module will be removed in 0.20.\", DeprecationWarning)\n"
          ],
          "name": "stderr"
        }
      ]
    },
    {
      "metadata": {
        "id": "pzT4xE2lgi8W",
        "colab_type": "text"
      },
      "cell_type": "markdown",
      "source": [
        "**Import data **\n",
        "\n",
        "1. Download the and extract the breast cancer dataset from https://www.kaggle.com/uciml/breast-cancer-wisconsin-data \n",
        "2. upload *data.csv* to colab"
      ]
    },
    {
      "metadata": {
        "id": "rwbW4zYUjwcF",
        "colab_type": "code",
        "colab": {
          "resources": {
            "http://localhost:8080/nbextensions/google.colab/files.js": {
              "data": "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",
              "ok": true,
              "headers": [
                [
                  "content-type",
                  "application/javascript"
                ]
              ],
              "status": 200,
              "status_text": ""
            }
          },
          "base_uri": "https://localhost:8080/",
          "height": 86
        },
        "outputId": "54191baa-e6c7-43a5-edcb-ebb45f95765c"
      },
      "cell_type": "code",
      "source": [
        "from google.colab import files # google colab library for uploading datasets\n",
        "uploaded = files.upload() # opens prompt to upload provided dataset\n",
        "\n",
        "for fn in uploaded.keys(): # display statistics on uploaded file\n",
        "  print('User uploaded file \"{name}\" with length {length} bytes'.format(name=fn, length=len(uploaded[fn])))"
      ],
      "execution_count": 2,
      "outputs": [
        {
          "output_type": "display_data",
          "data": {
            "text/html": [
              "\n",
              "     <input type=\"file\" id=\"files-f79a771d-dc68-430a-b849-d988f305895c\" name=\"files[]\" multiple disabled />\n",
              "     <output id=\"result-f79a771d-dc68-430a-b849-d988f305895c\">\n",
              "      Upload widget is only available when the cell has been executed in the\n",
              "      current browser session. Please rerun this cell to enable.\n",
              "      </output>\n",
              "      <script src=\"/nbextensions/google.colab/files.js\"></script> "
            ],
            "text/plain": [
              "<IPython.core.display.HTML object>"
            ]
          },
          "metadata": {
            "tags": []
          }
        },
        {
          "output_type": "stream",
          "text": [
            "Saving data.csv to data (1).csv\n",
            "User uploaded file \"data.csv\" with length 125204 bytes\n"
          ],
          "name": "stdout"
        }
      ]
    },
    {
      "metadata": {
        "id": "NRoCPqwcSmRc",
        "colab_type": "text"
      },
      "cell_type": "markdown",
      "source": [
        "## Preprocess Data "
      ]
    },
    {
      "metadata": {
        "id": "4h__RU4GTK0d",
        "colab_type": "text"
      },
      "cell_type": "markdown",
      "source": [
        "Make sure you have uploaded the dataset before this step."
      ]
    },
    {
      "metadata": {
        "id": "OhYpRRjjgi8a",
        "colab_type": "code",
        "colab": {}
      },
      "cell_type": "code",
      "source": [
        "data = pd.read_csv(\"data.csv\",header=0) # load data from row 0"
      ],
      "execution_count": 0,
      "outputs": []
    },
    {
      "metadata": {
        "id": "8MXWvOk1gi8r",
        "colab_type": "code",
        "colab": {
          "base_uri": "https://localhost:8080/",
          "height": 663
        },
        "outputId": "6fe3c4ca-2662-46b9-cb7d-c8ad6f3f4d2e"
      },
      "cell_type": "code",
      "source": [
        "data.info() # show information on columns"
      ],
      "execution_count": 4,
      "outputs": [
        {
          "output_type": "stream",
          "text": [
            "<class 'pandas.core.frame.DataFrame'>\n",
            "RangeIndex: 569 entries, 0 to 568\n",
            "Data columns (total 33 columns):\n",
            "id                         569 non-null int64\n",
            "diagnosis                  569 non-null object\n",
            "radius_mean                569 non-null float64\n",
            "texture_mean               569 non-null float64\n",
            "perimeter_mean             569 non-null float64\n",
            "area_mean                  569 non-null float64\n",
            "smoothness_mean            569 non-null float64\n",
            "compactness_mean           569 non-null float64\n",
            "concavity_mean             569 non-null float64\n",
            "concave points_mean        569 non-null float64\n",
            "symmetry_mean              569 non-null float64\n",
            "fractal_dimension_mean     569 non-null float64\n",
            "radius_se                  569 non-null float64\n",
            "texture_se                 569 non-null float64\n",
            "perimeter_se               569 non-null float64\n",
            "area_se                    569 non-null float64\n",
            "smoothness_se              569 non-null float64\n",
            "compactness_se             569 non-null float64\n",
            "concavity_se               569 non-null float64\n",
            "concave points_se          569 non-null float64\n",
            "symmetry_se                569 non-null float64\n",
            "fractal_dimension_se       569 non-null float64\n",
            "radius_worst               569 non-null float64\n",
            "texture_worst              569 non-null float64\n",
            "perimeter_worst            569 non-null float64\n",
            "area_worst                 569 non-null float64\n",
            "smoothness_worst           569 non-null float64\n",
            "compactness_worst          569 non-null float64\n",
            "concavity_worst            569 non-null float64\n",
            "concave points_worst       569 non-null float64\n",
            "symmetry_worst             569 non-null float64\n",
            "fractal_dimension_worst    569 non-null float64\n",
            "Unnamed: 32                0 non-null float64\n",
            "dtypes: float64(31), int64(1), object(1)\n",
            "memory usage: 146.8+ KB\n"
          ],
          "name": "stdout"
        }
      ]
    },
    {
      "metadata": {
        "id": "nr0IE6tTgi80",
        "colab_type": "text"
      },
      "cell_type": "markdown",
      "source": [
        "\n",
        "\n",
        "** Drop The ID column and column(s) with null values** (Q1)"
      ]
    },
    {
      "metadata": {
        "id": "Fl1BaCD6gi82",
        "colab_type": "code",
        "colab": {}
      },
      "cell_type": "code",
      "source": [
        "data.drop(\"id\",axis=1,inplace=True)\n",
        "data.drop(\"Unnamed: 32\",axis=1,inplace=True)"
      ],
      "execution_count": 0,
      "outputs": []
    },
    {
      "metadata": {
        "id": "h_L3S1Xbgi89",
        "colab_type": "code",
        "colab": {
          "base_uri": "https://localhost:8080/",
          "height": 187
        },
        "outputId": "d475799e-44c0-4948-8028-8c00e776fe4f"
      },
      "cell_type": "code",
      "source": [
        "# check to see if columns have been dropped\n",
        "data.columns"
      ],
      "execution_count": 6,
      "outputs": [
        {
          "output_type": "execute_result",
          "data": {
            "text/plain": [
              "Index(['diagnosis', 'radius_mean', 'texture_mean', 'perimeter_mean',\n",
              "       'area_mean', 'smoothness_mean', 'compactness_mean', 'concavity_mean',\n",
              "       'concave points_mean', 'symmetry_mean', 'fractal_dimension_mean',\n",
              "       'radius_se', 'texture_se', 'perimeter_se', 'area_se', 'smoothness_se',\n",
              "       'compactness_se', 'concavity_se', 'concave points_se', 'symmetry_se',\n",
              "       'fractal_dimension_se', 'radius_worst', 'texture_worst',\n",
              "       'perimeter_worst', 'area_worst', 'smoothness_worst',\n",
              "       'compactness_worst', 'concavity_worst', 'concave points_worst',\n",
              "       'symmetry_worst', 'fractal_dimension_worst'],\n",
              "      dtype='object')"
            ]
          },
          "metadata": {
            "tags": []
          },
          "execution_count": 6
        }
      ]
    },
    {
      "metadata": {
        "id": "j85ocxQJaRyH",
        "colab_type": "text"
      },
      "cell_type": "markdown",
      "source": [
        "**Categorize the columns into the three separate statistical categories** (mean, standard error, worst)\n",
        "\n",
        "hint: [python slice](https://stackoverflow.com/questions/509211/understanding-pythons-slice-notation)"
      ]
    },
    {
      "metadata": {
        "id": "B0hNzDvBgi9K",
        "colab_type": "code",
        "colab": {
          "base_uri": "https://localhost:8080/",
          "height": 122
        },
        "outputId": "930d6170-1f09-46e9-f304-dc035b511e88"
      },
      "cell_type": "code",
      "source": [
        "# Divide features into statistical categories for easy processing\n",
        "features_mean= list(data.columns[1:11])\n",
        "features_se= list(data.columns[11:21])\n",
        "features_worst= list(data.columns[21:32])\n",
        "print(features_mean)\n",
        "print(\"-----------------------------------\")\n",
        "print(features_se)\n",
        "print(\"------------------------------------\")\n",
        "print(features_worst)"
      ],
      "execution_count": 7,
      "outputs": [
        {
          "output_type": "stream",
          "text": [
            "['radius_mean', 'texture_mean', 'perimeter_mean', 'area_mean', 'smoothness_mean', 'compactness_mean', 'concavity_mean', 'concave points_mean', 'symmetry_mean', 'fractal_dimension_mean']\n",
            "-----------------------------------\n",
            "['radius_se', 'texture_se', 'perimeter_se', 'area_se', 'smoothness_se', 'compactness_se', 'concavity_se', 'concave points_se', 'symmetry_se', 'fractal_dimension_se']\n",
            "------------------------------------\n",
            "['radius_worst', 'texture_worst', 'perimeter_worst', 'area_worst', 'smoothness_worst', 'compactness_worst', 'concavity_worst', 'concave points_worst', 'symmetry_worst', 'fractal_dimension_worst']\n"
          ],
          "name": "stdout"
        }
      ]
    },
    {
      "metadata": {
        "id": "PL_QISUmgi9R",
        "colab_type": "code",
        "colab": {}
      },
      "cell_type": "code",
      "source": [
        "# map diagnostic column to integers for easy analysis\n",
        "data['diagnosis']=data['diagnosis'].map({'M':1,'B':0})"
      ],
      "execution_count": 0,
      "outputs": []
    },
    {
      "metadata": {
        "id": "4ALTn9h_gi9a",
        "colab_type": "text"
      },
      "cell_type": "markdown",
      "source": [
        "## Data Exploration & Feature Analysis"
      ]
    },
    {
      "metadata": {
        "id": "DlaYGSAvgi9c",
        "colab_type": "code",
        "colab": {
          "base_uri": "https://localhost:8080/",
          "height": 270
        },
        "outputId": "7a23659a-b29d-4b45-e396-b1827d610a5e"
      },
      "cell_type": "code",
      "source": [
        "data.head()# shows statistics on each feature"
      ],
      "execution_count": 9,
      "outputs": [
        {
          "output_type": "execute_result",
          "data": {
            "text/html": [
              "<div>\n",
              "<style scoped>\n",
              "    .dataframe tbody tr th:only-of-type {\n",
              "        vertical-align: middle;\n",
              "    }\n",
              "\n",
              "    .dataframe tbody tr th {\n",
              "        vertical-align: top;\n",
              "    }\n",
              "\n",
              "    .dataframe thead th {\n",
              "        text-align: right;\n",
              "    }\n",
              "</style>\n",
              "<table border=\"1\" class=\"dataframe\">\n",
              "  <thead>\n",
              "    <tr style=\"text-align: right;\">\n",
              "      <th></th>\n",
              "      <th>diagnosis</th>\n",
              "      <th>radius_mean</th>\n",
              "      <th>texture_mean</th>\n",
              "      <th>perimeter_mean</th>\n",
              "      <th>area_mean</th>\n",
              "      <th>smoothness_mean</th>\n",
              "      <th>compactness_mean</th>\n",
              "      <th>concavity_mean</th>\n",
              "      <th>concave points_mean</th>\n",
              "      <th>symmetry_mean</th>\n",
              "      <th>...</th>\n",
              "      <th>radius_worst</th>\n",
              "      <th>texture_worst</th>\n",
              "      <th>perimeter_worst</th>\n",
              "      <th>area_worst</th>\n",
              "      <th>smoothness_worst</th>\n",
              "      <th>compactness_worst</th>\n",
              "      <th>concavity_worst</th>\n",
              "      <th>concave points_worst</th>\n",
              "      <th>symmetry_worst</th>\n",
              "      <th>fractal_dimension_worst</th>\n",
              "    </tr>\n",
              "  </thead>\n",
              "  <tbody>\n",
              "    <tr>\n",
              "      <th>0</th>\n",
              "      <td>1</td>\n",
              "      <td>17.99</td>\n",
              "      <td>10.38</td>\n",
              "      <td>122.80</td>\n",
              "      <td>1001.0</td>\n",
              "      <td>0.11840</td>\n",
              "      <td>0.27760</td>\n",
              "      <td>0.3001</td>\n",
              "      <td>0.14710</td>\n",
              "      <td>0.2419</td>\n",
              "      <td>...</td>\n",
              "      <td>25.38</td>\n",
              "      <td>17.33</td>\n",
              "      <td>184.60</td>\n",
              "      <td>2019.0</td>\n",
              "      <td>0.1622</td>\n",
              "      <td>0.6656</td>\n",
              "      <td>0.7119</td>\n",
              "      <td>0.2654</td>\n",
              "      <td>0.4601</td>\n",
              "      <td>0.11890</td>\n",
              "    </tr>\n",
              "    <tr>\n",
              "      <th>1</th>\n",
              "      <td>1</td>\n",
              "      <td>20.57</td>\n",
              "      <td>17.77</td>\n",
              "      <td>132.90</td>\n",
              "      <td>1326.0</td>\n",
              "      <td>0.08474</td>\n",
              "      <td>0.07864</td>\n",
              "      <td>0.0869</td>\n",
              "      <td>0.07017</td>\n",
              "      <td>0.1812</td>\n",
              "      <td>...</td>\n",
              "      <td>24.99</td>\n",
              "      <td>23.41</td>\n",
              "      <td>158.80</td>\n",
              "      <td>1956.0</td>\n",
              "      <td>0.1238</td>\n",
              "      <td>0.1866</td>\n",
              "      <td>0.2416</td>\n",
              "      <td>0.1860</td>\n",
              "      <td>0.2750</td>\n",
              "      <td>0.08902</td>\n",
              "    </tr>\n",
              "    <tr>\n",
              "      <th>2</th>\n",
              "      <td>1</td>\n",
              "      <td>19.69</td>\n",
              "      <td>21.25</td>\n",
              "      <td>130.00</td>\n",
              "      <td>1203.0</td>\n",
              "      <td>0.10960</td>\n",
              "      <td>0.15990</td>\n",
              "      <td>0.1974</td>\n",
              "      <td>0.12790</td>\n",
              "      <td>0.2069</td>\n",
              "      <td>...</td>\n",
              "      <td>23.57</td>\n",
              "      <td>25.53</td>\n",
              "      <td>152.50</td>\n",
              "      <td>1709.0</td>\n",
              "      <td>0.1444</td>\n",
              "      <td>0.4245</td>\n",
              "      <td>0.4504</td>\n",
              "      <td>0.2430</td>\n",
              "      <td>0.3613</td>\n",
              "      <td>0.08758</td>\n",
              "    </tr>\n",
              "    <tr>\n",
              "      <th>3</th>\n",
              "      <td>1</td>\n",
              "      <td>11.42</td>\n",
              "      <td>20.38</td>\n",
              "      <td>77.58</td>\n",
              "      <td>386.1</td>\n",
              "      <td>0.14250</td>\n",
              "      <td>0.28390</td>\n",
              "      <td>0.2414</td>\n",
              "      <td>0.10520</td>\n",
              "      <td>0.2597</td>\n",
              "      <td>...</td>\n",
              "      <td>14.91</td>\n",
              "      <td>26.50</td>\n",
              "      <td>98.87</td>\n",
              "      <td>567.7</td>\n",
              "      <td>0.2098</td>\n",
              "      <td>0.8663</td>\n",
              "      <td>0.6869</td>\n",
              "      <td>0.2575</td>\n",
              "      <td>0.6638</td>\n",
              "      <td>0.17300</td>\n",
              "    </tr>\n",
              "    <tr>\n",
              "      <th>4</th>\n",
              "      <td>1</td>\n",
              "      <td>20.29</td>\n",
              "      <td>14.34</td>\n",
              "      <td>135.10</td>\n",
              "      <td>1297.0</td>\n",
              "      <td>0.10030</td>\n",
              "      <td>0.13280</td>\n",
              "      <td>0.1980</td>\n",
              "      <td>0.10430</td>\n",
              "      <td>0.1809</td>\n",
              "      <td>...</td>\n",
              "      <td>22.54</td>\n",
              "      <td>16.67</td>\n",
              "      <td>152.20</td>\n",
              "      <td>1575.0</td>\n",
              "      <td>0.1374</td>\n",
              "      <td>0.2050</td>\n",
              "      <td>0.4000</td>\n",
              "      <td>0.1625</td>\n",
              "      <td>0.2364</td>\n",
              "      <td>0.07678</td>\n",
              "    </tr>\n",
              "  </tbody>\n",
              "</table>\n",
              "<p>5 rows × 31 columns</p>\n",
              "</div>"
            ],
            "text/plain": [
              "   diagnosis  radius_mean  texture_mean  perimeter_mean  area_mean  \\\n",
              "0          1        17.99         10.38          122.80     1001.0   \n",
              "1          1        20.57         17.77          132.90     1326.0   \n",
              "2          1        19.69         21.25          130.00     1203.0   \n",
              "3          1        11.42         20.38           77.58      386.1   \n",
              "4          1        20.29         14.34          135.10     1297.0   \n",
              "\n",
              "   smoothness_mean  compactness_mean  concavity_mean  concave points_mean  \\\n",
              "0          0.11840           0.27760          0.3001              0.14710   \n",
              "1          0.08474           0.07864          0.0869              0.07017   \n",
              "2          0.10960           0.15990          0.1974              0.12790   \n",
              "3          0.14250           0.28390          0.2414              0.10520   \n",
              "4          0.10030           0.13280          0.1980              0.10430   \n",
              "\n",
              "   symmetry_mean           ...             radius_worst  texture_worst  \\\n",
              "0         0.2419           ...                    25.38          17.33   \n",
              "1         0.1812           ...                    24.99          23.41   \n",
              "2         0.2069           ...                    23.57          25.53   \n",
              "3         0.2597           ...                    14.91          26.50   \n",
              "4         0.1809           ...                    22.54          16.67   \n",
              "\n",
              "   perimeter_worst  area_worst  smoothness_worst  compactness_worst  \\\n",
              "0           184.60      2019.0            0.1622             0.6656   \n",
              "1           158.80      1956.0            0.1238             0.1866   \n",
              "2           152.50      1709.0            0.1444             0.4245   \n",
              "3            98.87       567.7            0.2098             0.8663   \n",
              "4           152.20      1575.0            0.1374             0.2050   \n",
              "\n",
              "   concavity_worst  concave points_worst  symmetry_worst  \\\n",
              "0           0.7119                0.2654          0.4601   \n",
              "1           0.2416                0.1860          0.2750   \n",
              "2           0.4504                0.2430          0.3613   \n",
              "3           0.6869                0.2575          0.6638   \n",
              "4           0.4000                0.1625          0.2364   \n",
              "\n",
              "   fractal_dimension_worst  \n",
              "0                  0.11890  \n",
              "1                  0.08902  \n",
              "2                  0.08758  \n",
              "3                  0.17300  \n",
              "4                  0.07678  \n",
              "\n",
              "[5 rows x 31 columns]"
            ]
          },
          "metadata": {
            "tags": []
          },
          "execution_count": 9
        }
      ]
    },
    {
      "metadata": {
        "id": "aCyvo5ojgi9i",
        "colab_type": "code",
        "colab": {
          "base_uri": "https://localhost:8080/",
          "height": 350
        },
        "outputId": "f45386a1-14c5-47ae-fa14-8e3de3f31b22"
      },
      "cell_type": "code",
      "source": [
        "# show frequency of cancer stages (Q2)\n",
        "sns.countplot(data['diagnosis'],label=\"Count\")"
      ],
      "execution_count": 10,
      "outputs": [
        {
          "output_type": "stream",
          "text": [
            "/usr/local/lib/python3.6/dist-packages/seaborn/categorical.py:1428: FutureWarning: remove_na is deprecated and is a private function. Do not use.\n",
            "  stat_data = remove_na(group_data)\n"
          ],
          "name": "stderr"
        },
        {
          "output_type": "execute_result",
          "data": {
            "text/plain": [
              "<matplotlib.axes._subplots.AxesSubplot at 0x7f81395f8470>"
            ]
          },
          "metadata": {
            "tags": []
          },
          "execution_count": 10
        },
        {
          "output_type": "display_data",
          "data": {
            "image/png": "[encoded data removed]",
            "text/plain": [
              "<matplotlib.figure.Figure at 0x7f814ed4e828>"
            ]
          },
          "metadata": {
            "tags": []
          }
        }
      ]
    },
    {
      "metadata": {
        "id": "jv3t9SakfY4u",
        "colab_type": "text"
      },
      "cell_type": "markdown",
      "source": [
        "**We can graph visually to find correlations between features**"
      ]
    },
    {
      "metadata": {
        "id": "dueUtT9sfYGT",
        "colab_type": "code",
        "colab": {
          "base_uri": "https://localhost:8080/",
          "height": 857
        },
        "outputId": "edbc2200-4173-436f-e552-40abefa19b25"
      },
      "cell_type": "code",
      "source": [
        "# now lets draw a correlation graph so that we can remove multi colinearity it means the columns are\n",
        "# dependenig on each other so we should avoid it because what is the use of using same column twice\n",
        "# lets check the correlation between features\n",
        "# now we will do this analysis only for features_mean then we will do for others and will see who is doing best\n",
        "corr = data[features_mean].corr() # .corr is used for find corelation\n",
        "plt.figure(figsize=(14,14))\n",
        "sns.heatmap(corr, cbar = True,  square = True, annot=True, fmt= '.2f',annot_kws={'size': 15},\n",
        "           xticklabels= features_mean, yticklabels= features_mean,\n",
        "           cmap= 'coolwarm') # for more on heatmap you can visit Link(http://seaborn.pydata.org/generated/seaborn.heatmap.html)"
      ],
      "execution_count": 11,
      "outputs": [
        {
          "output_type": "execute_result",
          "data": {
            "text/plain": [
              "<matplotlib.axes._subplots.AxesSubplot at 0x7f8136d765c0>"
            ]
          },
          "metadata": {
            "tags": []
          },
          "execution_count": 11
        },
        {
          "output_type": "display_data",
          "data": {
            "image/png": "[encoded data removed]",
            "text/plain": [
              "<matplotlib.figure.Figure at 0x7f8136d7b5f8>"
            ]
          },
          "metadata": {
            "tags": []
          }
        }
      ]
    },
    {
      "metadata": {
        "id": "2w--NKMvg5Qq",
        "colab_type": "text"
      },
      "cell_type": "markdown",
      "source": [
        "**observation**\n",
        "\n",
        " - the radius, parameter and area  are highly correlated as expected from their mathematical relationship*\n",
        "    so from these we will use **any one** of them *\n",
        " - *compactness_mean, concavity_mean and concavepoint_mean are highly correlated so we will use **compactness_mean** from here *\n",
        " - so selected Parameter for use is perimeter_mean, texture_mean, compactness_mean, symmetry_mean*"
      ]
    },
    {
      "metadata": {
        "id": "y5BFyeJUiK3g",
        "colab_type": "text"
      },
      "cell_type": "markdown",
      "source": [
        "** Try it yourself with features_worst!**"
      ]
    },
    {
      "metadata": {
        "id": "6YqcguA6iRGJ",
        "colab_type": "code",
        "colab": {
          "base_uri": "https://localhost:8080/",
          "height": 860
        },
        "outputId": "cb65f801-e4a5-4f8a-f30e-b21038dc0775"
      },
      "cell_type": "code",
      "source": [
        "# Your Code Here\n",
        "corr = data[features_worst].corr() # .corr is used for find corelation\n",
        "plt.figure(figsize=(14,14))\n",
        "sns.heatmap(corr, cbar = True,  square = True, annot=True, fmt= '.2f',annot_kws={'size': 15},\n",
        "           xticklabels= features_worst, yticklabels= features_worst,\n",
        "           cmap= 'coolwarm')"
      ],
      "execution_count": 12,
      "outputs": [
        {
          "output_type": "execute_result",
          "data": {
            "text/plain": [
              "<matplotlib.axes._subplots.AxesSubplot at 0x7f8136c63fd0>"
            ]
          },
          "metadata": {
            "tags": []
          },
          "execution_count": 12
        },
        {
          "output_type": "display_data",
          "data": {
            "image/png": "[encoded data removed]",
            "text/plain": [
              "<matplotlib.figure.Figure at 0x7f8136d85ac8>"
            ]
          },
          "metadata": {
            "tags": []
          }
        }
      ]
    },
    {
      "metadata": {
        "id": "OnnTbS5linx_",
        "colab_type": "text"
      },
      "cell_type": "markdown",
      "source": [
        "**Notice any changes?** (Q3)"
      ]
    },
    {
      "metadata": {
        "id": "QtIfqKpXgi9x",
        "colab_type": "text"
      },
      "cell_type": "markdown",
      "source": [
        "##Training & Analyzing Models"
      ]
    },
    {
      "metadata": {
        "id": "RI5FXocKgi95",
        "colab_type": "text"
      },
      "cell_type": "markdown",
      "source": [
        "We will look at Random Forests for this codelab. The main focus is on feature selection."
      ]
    },
    {
      "metadata": {
        "id": "qLZj0czL0l00",
        "colab_type": "text"
      },
      "cell_type": "markdown",
      "source": [
        "**Setup**"
      ]
    },
    {
      "metadata": {
        "id": "FdJfKbsZgi-C",
        "colab_type": "code",
        "colab": {}
      },
      "cell_type": "code",
      "source": [
        "# a subset of all the features\n",
        "prediction_var = ['texture_mean','perimeter_mean','smoothness_mean','compactness_mean','symmetry_mean']"
      ],
      "execution_count": 0,
      "outputs": []
    },
    {
      "metadata": {
        "id": "to7XXolcgi-I",
        "colab_type": "code",
        "colab": {
          "base_uri": "https://localhost:8080/",
          "height": 51
        },
        "outputId": "24c1dfec-6c06-46f1-96f3-30a21d33ce65"
      },
      "cell_type": "code",
      "source": [
        "train, test = train_test_split(data, test_size = 0.3) # split main dataset into train and test\n",
        "print(train.shape)\n",
        "print(test.shape)"
      ],
      "execution_count": 14,
      "outputs": [
        {
          "output_type": "stream",
          "text": [
            "(398, 31)\n",
            "(171, 31)\n"
          ],
          "name": "stdout"
        }
      ]
    },
    {
      "metadata": {
        "id": "iVwaYkcjgi-S",
        "colab_type": "code",
        "colab": {}
      },
      "cell_type": "code",
      "source": [
        "train_X = train[prediction_var] # training data input \n",
        "train_y=train.diagnosis # labeled classifications\n",
        "\n",
        "test_X= test[prediction_var]\n",
        "test_y =test.diagnosis # classification output"
      ],
      "execution_count": 0,
      "outputs": []
    },
    {
      "metadata": {
        "id": "w3gk6DtblFnP",
        "colab_type": "text"
      },
      "cell_type": "markdown",
      "source": [
        "**Random Forest Classifier**\n",
        "\n",
        "We will start with training a random forest classifier on the subset of 5 features \n",
        "[Documentation](http://scikit-learn.org/stable/modules/generated/sklearn.ensemble.RandomForestClassifier.html)"
      ]
    },
    {
      "metadata": {
        "id": "EKVvfOiUgi-X",
        "colab_type": "code",
        "colab": {}
      },
      "cell_type": "code",
      "source": [
        "model=RandomForestClassifier(n_estimators=100)# a simple random forest model"
      ],
      "execution_count": 0,
      "outputs": []
    },
    {
      "metadata": {
        "id": "kXkPn4kIgi-f",
        "colab_type": "code",
        "colab": {
          "base_uri": "https://localhost:8080/",
          "height": 136
        },
        "outputId": "47cb4073-7345-45fe-832d-29cbbf24b4c9"
      },
      "cell_type": "code",
      "source": [
        "model.fit(train_X,train_y)# train the model"
      ],
      "execution_count": 17,
      "outputs": [
        {
          "output_type": "execute_result",
          "data": {
            "text/plain": [
              "RandomForestClassifier(bootstrap=True, class_weight=None, criterion='gini',\n",
              "            max_depth=None, max_features='auto', max_leaf_nodes=None,\n",
              "            min_impurity_decrease=0.0, min_impurity_split=None,\n",
              "            min_samples_leaf=1, min_samples_split=2,\n",
              "            min_weight_fraction_leaf=0.0, n_estimators=100, n_jobs=1,\n",
              "            oob_score=False, random_state=None, verbose=0,\n",
              "            warm_start=False)"
            ]
          },
          "metadata": {
            "tags": []
          },
          "execution_count": 17
        }
      ]
    },
    {
      "metadata": {
        "id": "HDZ4M1vzgi-n",
        "colab_type": "code",
        "colab": {}
      },
      "cell_type": "code",
      "source": [
        "prediction=model.predict(test_X)# predict for the test data\n",
        "# prediction will contain the predicted value by our model predicted values of dignosis column for test inputs"
      ],
      "execution_count": 0,
      "outputs": []
    },
    {
      "metadata": {
        "id": "T6CF76VRgi-t",
        "colab_type": "code",
        "colab": {
          "base_uri": "https://localhost:8080/",
          "height": 34
        },
        "outputId": "a2901c73-4894-4b2c-f7fc-7f75650531f8"
      },
      "cell_type": "code",
      "source": [
        "metrics.accuracy_score(prediction,test_y) # to check the accuracy\n",
        "# here we will use accuracy measurement between our predicted value and our test output values"
      ],
      "execution_count": 19,
      "outputs": [
        {
          "output_type": "execute_result",
          "data": {
            "text/plain": [
              "0.9122807017543859"
            ]
          },
          "metadata": {
            "tags": []
          },
          "execution_count": 19
        }
      ]
    },
    {
      "metadata": {
        "id": "zkYRcvNJgi_A",
        "colab_type": "text"
      },
      "cell_type": "markdown",
      "source": [
        "*Now lets do this for all feature_mean so that from Random forest we can get the feature which are important**"
      ]
    },
    {
      "metadata": {
        "id": "0tj3aTs3gi_C",
        "colab_type": "code",
        "colab": {}
      },
      "cell_type": "code",
      "source": [
        "# taking all features\n",
        " prediction_var = features_mean"
      ],
      "execution_count": 0,
      "outputs": []
    },
    {
      "metadata": {
        "id": "4d0HtCZOgi_I",
        "colab_type": "code",
        "colab": {}
      },
      "cell_type": "code",
      "source": [
        "# setup training/testing data\n",
        "train, test = train_test_split(data, test_size = 0.3)\n",
        "\n",
        "train_X = train[prediction_var] # training data input \n",
        "train_y=train.diagnosis # labeled classifications\n",
        "\n",
        "test_X= test[prediction_var]\n",
        "test_y =test.diagnosis # classification output"
      ],
      "execution_count": 0,
      "outputs": []
    },
    {
      "metadata": {
        "id": "9k0BnlUhgi_N",
        "colab_type": "code",
        "colab": {}
      },
      "cell_type": "code",
      "source": [
        "model=RandomForestClassifier(n_estimators=100)"
      ],
      "execution_count": 0,
      "outputs": []
    },
    {
      "metadata": {
        "id": "7j7Ki5gOgi_T",
        "colab_type": "code",
        "colab": {
          "base_uri": "https://localhost:8080/",
          "height": 34
        },
        "outputId": "2768e97a-f55b-4185-f12e-4fbad082b426"
      },
      "cell_type": "code",
      "source": [
        "model.fit(train_X,train_y)\n",
        "prediction = model.predict(test_X)\n",
        "metrics.accuracy_score(prediction,test_y)"
      ],
      "execution_count": 23,
      "outputs": [
        {
          "output_type": "execute_result",
          "data": {
            "text/plain": [
              "0.9415204678362573"
            ]
          },
          "metadata": {
            "tags": []
          },
          "execution_count": 23
        }
      ]
    },
    {
      "metadata": {
        "id": "YP193p5Agi_d",
        "colab_type": "text"
      },
      "cell_type": "markdown",
      "source": [
        "**Did Accuracy increase? Occam's razor principle is it worth it?**"
      ]
    },
    {
      "metadata": {
        "id": "uJ4othBogi_h",
        "colab_type": "code",
        "colab": {
          "base_uri": "https://localhost:8080/",
          "height": 204
        },
        "outputId": "b6ac5ffe-139f-49bc-cb74-6f1954efa303"
      },
      "cell_type": "code",
      "source": [
        "featimp = pd.Series(model.feature_importances_, index=prediction_var).sort_values(ascending=False)\n",
        "print(featimp) # this is the property of Random Forest classifier that it provide us the importance \n",
        "# of the features used"
      ],
      "execution_count": 24,
      "outputs": [
        {
          "output_type": "stream",
          "text": [
            "concave points_mean       0.257303\n",
            "area_mean                 0.163418\n",
            "concavity_mean            0.158648\n",
            "perimeter_mean            0.130619\n",
            "radius_mean               0.128870\n",
            "texture_mean              0.064408\n",
            "compactness_mean          0.033822\n",
            "smoothness_mean           0.023231\n",
            "symmetry_mean             0.021838\n",
            "fractal_dimension_mean    0.017842\n",
            "dtype: float64\n"
          ],
          "name": "stdout"
        }
      ]
    },
    {
      "metadata": {
        "id": "J-FzaqAM0e7s",
        "colab_type": "text"
      },
      "cell_type": "markdown",
      "source": [
        "**Reset**"
      ]
    },
    {
      "metadata": {
        "id": "Q133v3XngjAA",
        "colab_type": "code",
        "colab": {}
      },
      "cell_type": "code",
      "source": [
        "prediction_var=['concave points_mean','perimeter_mean' , 'concavity_mean' , 'radius_mean','area_mean']      "
      ],
      "execution_count": 0,
      "outputs": []
    },
    {
      "metadata": {
        "id": "qyFo9ITygjAE",
        "colab_type": "code",
        "colab": {}
      },
      "cell_type": "code",
      "source": [
        "train_X= train[prediction_var]\n",
        "train_y= train.diagnosis\n",
        "test_X = test[prediction_var]\n",
        "test_y = test.diagnosis"
      ],
      "execution_count": 0,
      "outputs": []
    },
    {
      "metadata": {
        "id": "wdYtxCBigjAK",
        "colab_type": "code",
        "colab": {
          "base_uri": "https://localhost:8080/",
          "height": 34
        },
        "outputId": "46e982de-e432-448e-8d9e-4848c6c16153"
      },
      "cell_type": "code",
      "source": [
        "model=RandomForestClassifier(n_estimators=100)\n",
        "model.fit(train_X,train_y)\n",
        "prediction = model.predict(test_X)\n",
        "metrics.accuracy_score(prediction,test_y)"
      ],
      "execution_count": 27,
      "outputs": [
        {
          "output_type": "execute_result",
          "data": {
            "text/plain": [
              "0.9298245614035088"
            ]
          },
          "metadata": {
            "tags": []
          },
          "execution_count": 27
        }
      ]
    },
    {
      "metadata": {
        "id": "R9CePTsb0AC4",
        "colab_type": "text"
      },
      "cell_type": "markdown",
      "source": [
        "**Features Worst**"
      ]
    },
    {
      "metadata": {
        "id": "fqdL__ySgjAZ",
        "colab_type": "code",
        "colab": {}
      },
      "cell_type": "code",
      "source": [
        "prediction_var = features_worst"
      ],
      "execution_count": 0,
      "outputs": []
    },
    {
      "metadata": {
        "id": "84zbJ0uegjAj",
        "colab_type": "code",
        "colab": {}
      },
      "cell_type": "code",
      "source": [
        "train_X= train[prediction_var]\n",
        "train_y= train.diagnosis\n",
        "test_X = test[prediction_var]\n",
        "test_y = test.diagnosis"
      ],
      "execution_count": 0,
      "outputs": []
    },
    {
      "metadata": {
        "id": "Ftb6X8zggjBB",
        "colab_type": "code",
        "colab": {
          "base_uri": "https://localhost:8080/",
          "height": 34
        },
        "outputId": "4ea8f8b5-5f17-43fd-bf78-345b028dcdf6"
      },
      "cell_type": "code",
      "source": [
        "model=RandomForestClassifier(n_estimators=100)\n",
        "model.fit(train_X,train_y)\n",
        "prediction = model.predict(test_X)\n",
        "metrics.accuracy_score(prediction,test_y)"
      ],
      "execution_count": 30,
      "outputs": [
        {
          "output_type": "execute_result",
          "data": {
            "text/plain": [
              "0.9766081871345029"
            ]
          },
          "metadata": {
            "tags": []
          },
          "execution_count": 30
        }
      ]
    },
    {
      "metadata": {
        "id": "4q5tK_lvgjBO",
        "colab_type": "code",
        "colab": {
          "base_uri": "https://localhost:8080/",
          "height": 204
        },
        "outputId": "0cdc3169-9097-43ae-bbf6-60356a4439f6"
      },
      "cell_type": "code",
      "source": [
        "# the accuracy for RandomForest invcrease it means the value are more catogrical in Worst part\n",
        "#lets get the important features\n",
        "featimp = pd.Series(model.feature_importances_, index=prediction_var).sort_values(ascending=False)\n",
        "print(featimp) # this is the property of Random Forest classifier that it provide us the importance \n",
        "# of the features used"
      ],
      "execution_count": 31,
      "outputs": [
        {
          "output_type": "stream",
          "text": [
            "radius_worst               0.244079\n",
            "perimeter_worst            0.206567\n",
            "area_worst                 0.197963\n",
            "concave points_worst       0.162346\n",
            "concavity_worst            0.049840\n",
            "texture_worst              0.040899\n",
            "compactness_worst          0.030472\n",
            "fractal_dimension_worst    0.023256\n",
            "symmetry_worst             0.022534\n",
            "smoothness_worst           0.022045\n",
            "dtype: float64\n"
          ],
          "name": "stdout"
        }
      ]
    },
    {
      "metadata": {
        "id": "oa2odD_AgjBY",
        "colab_type": "code",
        "colab": {}
      },
      "cell_type": "code",
      "source": [
        "# same parameter but with great importance and here it seamed the only conacve points_worst is making \n",
        "# very important so it may be bias lets check only for top 5 important features"
      ],
      "execution_count": 0,
      "outputs": []
    },
    {
      "metadata": {
        "id": "-kphL4BLgjBe",
        "colab_type": "code",
        "colab": {}
      },
      "cell_type": "code",
      "source": [
        "prediction_var = ['concave points_worst','radius_worst','area_worst','perimeter_worst','concavity_worst'] "
      ],
      "execution_count": 0,
      "outputs": []
    },
    {
      "metadata": {
        "id": "r-uACmvngjBq",
        "colab_type": "code",
        "colab": {}
      },
      "cell_type": "code",
      "source": [
        "train_X= train[prediction_var]\n",
        "train_y= train.diagnosis\n",
        "test_X = test[prediction_var]\n",
        "test_y = test.diagnosis"
      ],
      "execution_count": 0,
      "outputs": []
    },
    {
      "metadata": {
        "id": "U3zWf2SsgjB1",
        "colab_type": "code",
        "colab": {
          "base_uri": "https://localhost:8080/",
          "height": 34
        },
        "outputId": "0ccc57a4-1d21-4618-c2cf-06e5cf48671f"
      },
      "cell_type": "code",
      "source": [
        "model=RandomForestClassifier(n_estimators=100)\n",
        "model.fit(train_X,train_y)\n",
        "prediction = model.predict(test_X)\n",
        "metrics.accuracy_score(prediction,test_y)"
      ],
      "execution_count": 35,
      "outputs": [
        {
          "output_type": "execute_result",
          "data": {
            "text/plain": [
              "0.9532163742690059"
            ]
          },
          "metadata": {
            "tags": []
          },
          "execution_count": 35
        }
      ]
    },
    {
      "metadata": {
        "id": "kjuFIioDgjDJ",
        "colab_type": "code",
        "colab": {
          "base_uri": "https://localhost:8080/",
          "height": 187
        },
        "outputId": "39033d4a-2a38-4711-ffba-2b7db7cd1035"
      },
      "cell_type": "code",
      "source": [
        "# So predicton features will be \n",
        "features_mean"
      ],
      "execution_count": 36,
      "outputs": [
        {
          "output_type": "execute_result",
          "data": {
            "text/plain": [
              "['radius_mean',\n",
              " 'texture_mean',\n",
              " 'perimeter_mean',\n",
              " 'area_mean',\n",
              " 'smoothness_mean',\n",
              " 'compactness_mean',\n",
              " 'concavity_mean',\n",
              " 'concave points_mean',\n",
              " 'symmetry_mean',\n",
              " 'fractal_dimension_mean']"
            ]
          },
          "metadata": {
            "tags": []
          },
          "execution_count": 36
        }
      ]
    },
    {
      "metadata": {
        "id": "oFFQ9RhQgjDR",
        "colab_type": "code",
        "colab": {}
      },
      "cell_type": "code",
      "source": [
        "# So predicton features will be \n",
        "predictor_var = ['radius_mean','perimeter_mean','area_mean','compactness_mean','concave points_mean']"
      ],
      "execution_count": 0,
      "outputs": []
    },
    {
      "metadata": {
        "id": "FkHzoNcQueK6",
        "colab_type": "text"
      },
      "cell_type": "markdown",
      "source": [
        "## Cross Validation"
      ]
    },
    {
      "metadata": {
        "id": "YXZd9HnuvkR1",
        "colab_type": "text"
      },
      "cell_type": "markdown",
      "source": [
        "Cross validation rotates training data to test the effectiveness of a model. It is important to check these to make sure your model generalizes to future data."
      ]
    },
    {
      "metadata": {
        "id": "OIz4UXeRvlbM",
        "colab_type": "text"
      },
      "cell_type": "markdown",
      "source": [
        "**Setup**\n",
        "\n",
        "We have completed this step for you."
      ]
    },
    {
      "metadata": {
        "id": "6hZtP0XegjDc",
        "colab_type": "code",
        "colab": {}
      },
      "cell_type": "code",
      "source": [
        "# Now with these variable we will try to explore a liitle bit we will move to how to use cross validiation\n",
        "# for a detail on cross validation use this link https://www.analyticsvidhya.com/blog/2015/11/improve-model-performance-cross-validation-in-python-r/"
      ],
      "execution_count": 0,
      "outputs": []
    },
    {
      "metadata": {
        "id": "XkDbgceAgjDe",
        "colab_type": "code",
        "colab": {}
      },
      "cell_type": "code",
      "source": [
        "def model(model,data,prediction,outcome):\n",
        "    # This function will be used for to check accuracy of different model\n",
        "    # model is the m\n",
        "    kf = KFold(data.shape[0], n_folds=10) # if you have refer the link then you must understand what is n_folds\n",
        "    "
      ],
      "execution_count": 0,
      "outputs": []
    },
    {
      "metadata": {
        "id": "I7T2XTyCgjDi",
        "colab_type": "code",
        "colab": {}
      },
      "cell_type": "code",
      "source": [
        "prediction_var = ['radius_mean','perimeter_mean','area_mean','compactness_mean','concave points_mean']"
      ],
      "execution_count": 0,
      "outputs": []
    },
    {
      "metadata": {
        "id": "e7axEOaagjDp",
        "colab_type": "code",
        "colab": {}
      },
      "cell_type": "code",
      "source": [
        "# As we are going to use many models lets make a function\n",
        "# Which we can use with different models\n",
        "def classification_model(model,data,prediction_input,output):\n",
        "    # here the model means the model \n",
        "    # data is used for the data \n",
        "    #prediction_input means the inputs used for prediction\n",
        "    # output mean the value which are to be predicted\n",
        "    # here we will try to find out the Accuarcy of model by using same data for fiiting and \n",
        "    #comparison for same data\n",
        "    #Fit the model:\n",
        "    model.fit(data[prediction_input],data[output]) #Here we fit the model using training set\n",
        "  \n",
        "    #Make predictions on training set:\n",
        "    predictions = model.predict(data[prediction_input])\n",
        "  \n",
        "    #Print accuracy\n",
        "    # now checkin accuracy for same data\n",
        "    accuracy = metrics.accuracy_score(predictions,data[output])\n",
        "    print(\"Accuracy : %s\" % \"{0:.3%}\".format(accuracy))\n",
        " \n",
        "    \n",
        "    kf = KFold(data.shape[0], n_folds=5)\n",
        "    # About cross validitaion please follow this link\n",
        "    #https://www.analyticsvidhya.com/blog/2015/11/improve-model-performance-cross-validation-in-python-r/\n",
        "    #let me explain a little bit data.shape[0] means number of rows in data\n",
        "    #n_folds is for number of folds\n",
        "    error = []\n",
        "    for train, test in kf:\n",
        "        # as the data is divided into train and test using KFold\n",
        "        # now as explained above we have fit many models \n",
        "        # so here also we are going to fit model\n",
        "        #in the cross validation the data in train and test will change for evry iteration\n",
        "        train_X = (data[prediction_input].iloc[train,:])# in this iloc is used for index of trainig data\n",
        "        # here iloc[train,:] means all row in train in kf amd the all columns\n",
        "        train_y = data[output].iloc[train]# here is only column so it repersenting only row in train\n",
        "        # Training the algorithm using the predictors and target.\n",
        "        model.fit(train_X, train_y)\n",
        "    \n",
        "        # now do this for test data also\n",
        "        test_X=data[prediction_input].iloc[test,:]\n",
        "        test_y=data[output].iloc[test]\n",
        "        error.append(model.score(test_X,test_y))\n",
        "        # printing the score \n",
        "        print(\"Cross-Validation Score : %s\" % \"{0:.3%}\".format(np.mean(error)))\n",
        "    \n",
        "    \n",
        "    "
      ],
      "execution_count": 0,
      "outputs": []
    },
    {
      "metadata": {
        "id": "0nuFX6OlgjDu",
        "colab_type": "text"
      },
      "cell_type": "markdown",
      "source": [
        "**Comparison of different classifiers**\n",
        "\n"
      ]
    },
    {
      "metadata": {
        "id": "4pKl3AubgjDv",
        "colab_type": "code",
        "colab": {
          "base_uri": "https://localhost:8080/",
          "height": 119
        },
        "outputId": "6e15b5d4-01cd-42fd-854c-e15b225c185c"
      },
      "cell_type": "code",
      "source": [
        "# Decision Trees\n",
        "model = DecisionTreeClassifier()\n",
        "prediction_var = ['radius_mean','perimeter_mean','area_mean','compactness_mean','concave points_mean']\n",
        "outcome_var= \"diagnosis\"\n",
        "classification_model(model,data,prediction_var,outcome_var)"
      ],
      "execution_count": 42,
      "outputs": [
        {
          "output_type": "stream",
          "text": [
            "Accuracy : 100.000%\n",
            "Cross-Validation Score : 85.965%\n",
            "Cross-Validation Score : 87.719%\n",
            "Cross-Validation Score : 89.181%\n",
            "Cross-Validation Score : 90.132%\n",
            "Cross-Validation Score : 90.335%\n"
          ],
          "name": "stdout"
        }
      ]
    },
    {
      "metadata": {
        "id": "bpncP5JJgjDx",
        "colab_type": "text"
      },
      "cell_type": "markdown",
      "source": [
        "**Are we underfitting/overfitting here? What shows you?** (Q6)\n",
        "\n",
        "*   List item\n",
        "*   List item\n",
        "\n"
      ]
    },
    {
      "metadata": {
        "id": "SqeBbWQegjDz",
        "colab_type": "code",
        "colab": {
          "base_uri": "https://localhost:8080/",
          "height": 119
        },
        "outputId": "d8a827a1-49fe-436c-a7db-6c5012fb1506"
      },
      "cell_type": "code",
      "source": [
        "# Support Vector Machines\n",
        "model = svm.SVC()\n",
        "classification_model(model,data,prediction_var,outcome_var)"
      ],
      "execution_count": 43,
      "outputs": [
        {
          "output_type": "stream",
          "text": [
            "Accuracy : 96.661%\n",
            "Cross-Validation Score : 56.140%\n",
            "Cross-Validation Score : 65.789%\n",
            "Cross-Validation Score : 69.883%\n",
            "Cross-Validation Score : 72.807%\n",
            "Cross-Validation Score : 74.706%\n"
          ],
          "name": "stdout"
        }
      ]
    },
    {
      "metadata": {
        "id": "30-gQtHjxT9J",
        "colab_type": "text"
      },
      "cell_type": "markdown",
      "source": [
        "**Note: **The default SVM kernel have low cross-validation scores. We can raise these by trying other kernels and tuning the parameters."
      ]
    },
    {
      "metadata": {
        "id": "CrimIf0EgjD4",
        "colab_type": "code",
        "colab": {
          "base_uri": "https://localhost:8080/",
          "height": 119
        },
        "outputId": "ee29b2ac-b3f0-4cc0-b9d8-7b9fe159aa51"
      },
      "cell_type": "code",
      "source": [
        "# K Nearest Neighbors\n",
        "model = KNeighborsClassifier()\n",
        "classification_model(model,data,prediction_var,outcome_var)"
      ],
      "execution_count": 44,
      "outputs": [
        {
          "output_type": "stream",
          "text": [
            "Accuracy : 90.510%\n",
            "Cross-Validation Score : 76.316%\n",
            "Cross-Validation Score : 80.263%\n",
            "Cross-Validation Score : 85.965%\n",
            "Cross-Validation Score : 86.623%\n",
            "Cross-Validation Score : 86.820%\n"
          ],
          "name": "stdout"
        }
      ]
    },
    {
      "metadata": {
        "id": "sfUCHB5ggjD5",
        "colab_type": "code",
        "colab": {
          "base_uri": "https://localhost:8080/",
          "height": 119
        },
        "outputId": "e675e77b-8d9d-4cc5-a59e-3f78c23448ad"
      },
      "cell_type": "code",
      "source": [
        "# Random Forests\n",
        "model = RandomForestClassifier(n_estimators=100)\n",
        "classification_model(model,data,prediction_var,outcome_var)"
      ],
      "execution_count": 45,
      "outputs": [
        {
          "output_type": "stream",
          "text": [
            "Accuracy : 100.000%\n",
            "Cross-Validation Score : 84.211%\n",
            "Cross-Validation Score : 87.281%\n",
            "Cross-Validation Score : 89.474%\n",
            "Cross-Validation Score : 90.789%\n",
            "Cross-Validation Score : 91.216%\n"
          ],
          "name": "stdout"
        }
      ]
    },
    {
      "metadata": {
        "id": "eSTO_9vOgjD7",
        "colab_type": "code",
        "colab": {
          "base_uri": "https://localhost:8080/",
          "height": 119
        },
        "outputId": "e2020b57-ab3c-4434-9be3-40cfe888ce8f"
      },
      "cell_type": "code",
      "source": [
        "# Logistic Regression\n",
        "model=LogisticRegression()\n",
        "classification_model(model,data,prediction_var,outcome_var)"
      ],
      "execution_count": 46,
      "outputs": [
        {
          "output_type": "stream",
          "text": [
            "Accuracy : 89.279%\n",
            "Cross-Validation Score : 78.070%\n",
            "Cross-Validation Score : 82.018%\n",
            "Cross-Validation Score : 86.550%\n",
            "Cross-Validation Score : 87.939%\n",
            "Cross-Validation Score : 89.112%\n"
          ],
          "name": "stdout"
        }
      ]
    },
    {
      "metadata": {
        "id": "KR-LzVaCxOW1",
        "colab_type": "text"
      },
      "cell_type": "markdown",
      "source": [
        "**Are we underfitting/overfitting here? What shows you?** (Q7)"
      ]
    },
    {
      "metadata": {
        "id": "K28CtLbATZyE",
        "colab_type": "text"
      },
      "cell_type": "markdown",
      "source": [
        "## Analysis (Graded Portion)\n"
      ]
    },
    {
      "metadata": {
        "id": "6V21YpCjUTD3",
        "colab_type": "text"
      },
      "cell_type": "markdown",
      "source": [
        "**Questions:**\n",
        "\n",
        "1. Why did we drop ID and null columns?\n",
        "2. How many samples were tagged as malignant? (nearest 10th)\n",
        "3. Did you notice any patterns between the feature_mean correlation and feature_worst correlation? What changed?\n",
        "4. How many data points are we using for training the data? (exact number) How many were used for testing? (exact number)\n",
        "5. Did accuracy increase which model is better based on Occam's Razor?\n",
        "6. Are we overfitting/underfitting the decision tree model? Why? (hint: look for accuracy and cross  validation scores)\n",
        "7. Are we overfitting/underfitting a linear regression model? Do we have High or Low Bias and Variance?\n",
        "\n",
        "**Write your questions below:**\n",
        "\n",
        "1. We dropped ID because it was irrelevant for the analysis. It was just a random patient ID assigned to structure the data. We dropped the null columns to clean and tidy the data. This made the data homogenous. \n",
        "\n",
        "2. 212 samples were tagged as malignant. \n",
        "\n",
        "3. Yes mostly the values were pretty similar. However, there were some values with negative correlation in the mean chart but none in the worst chart.The area, perimeter and radius were still strongly correlated, mainly due to the mathematical correlation. Just by looking at the color coding, we can see that means chart have more number of high correlating elements (more red blocks) whereas the worst chart has less number of high correlating elements (more blue blocks).\n",
        "\n",
        "4. 398 for training and 171 for testing. Both of them had 31 variables or columns. \n",
        "\n",
        "5. Yes, the accuracy did increase. Compared to the 5 features, when all the features of the mean were put together and tested, the result was more accurate but not by a lot of margin. The second model had the most important feature in it concave points_mean which later turned out to be the most important feature. \n",
        "\n",
        "6. We are over fitting the decision tree model. We can see from the accuracy that we have 100% but when we cross validate, it is no where near that. This just means that our model is also learning from the errors or the outliers and isn't really correcting from it's mistakes properly. \n",
        "\n",
        "7. We are under fitting the logitisc or linear regression model because we are not able to reach the achieved accuracy. A cross validation score of 78% is very low as compared to the 89% we achieved in our accuracy. "
      ]
    },
    {
      "metadata": {
        "id": "LD7ppbywTmDI",
        "colab_type": "text"
      },
      "cell_type": "markdown",
      "source": [
        "## Citation"
      ]
    },
    {
      "metadata": {
        "id": "XFtnp6dFTyib",
        "colab_type": "text"
      },
      "cell_type": "markdown",
      "source": [
        "Inspiration taken from https://www.kaggle.com/gargmanish/basic-machine-learning-with-cancer (v25)\n"
      ]
    }
  ]
}